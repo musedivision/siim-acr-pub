{
 "cells": [
  {
   "cell_type": "markdown",
   "metadata": {},
   "source": [
    "## imports / setup"
   ]
  },
  {
   "cell_type": "code",
   "execution_count": 21,
   "metadata": {},
   "outputs": [],
   "source": [
    "%reload_ext autoreload\n",
    "%autoreload 2\n",
    "%matplotlib inline"
   ]
  },
  {
   "cell_type": "code",
   "execution_count": 22,
   "metadata": {},
   "outputs": [],
   "source": [
    "from matplotlib import pyplot as plt\n",
    "import numpy as np\n",
    "import pandas as pd\n",
    "\n",
    "from pathlib import Path\n",
    "import torch\n",
    "from torch import optim, nn\n",
    "import PIL \n",
    "import pydicom\n",
    "\n",
    "from functools import partial, reduce\n",
    "from enum import Enum"
   ]
  },
  {
   "cell_type": "code",
   "execution_count": 23,
   "metadata": {},
   "outputs": [],
   "source": [
    "# helper function from the competition\n",
    "import mask_functions"
   ]
  },
  {
   "cell_type": "code",
   "execution_count": 1,
   "metadata": {},
   "outputs": [],
   "source": [
    "from dataloader_full import *\n",
    "from Learner import Learner"
   ]
  },
  {
   "cell_type": "code",
   "execution_count": 27,
   "metadata": {},
   "outputs": [],
   "source": [
    "path = Path('/home/ubuntu/data/fastai/data/siim-acr/')"
   ]
  },
  {
   "cell_type": "markdown",
   "metadata": {},
   "source": [
    "## encoder"
   ]
  },
  {
   "cell_type": "code",
   "execution_count": 28,
   "metadata": {},
   "outputs": [],
   "source": [
    "class ResBlock(nn.Module):\n",
    "    def __init__(self, ni, nf):\n",
    "        super().__init__()\n",
    "        self.c1 = nn.Conv2d(ni, nf, kernel_size=3, stride=1, padding=1)\n",
    "        self.c2 = nn.Conv2d(ni, nf, kernel_size=3, stride=1, padding=1)\n",
    "        \n",
    "    def forward(self, x):\n",
    "        a1 = F.relu(self.c1(x))\n",
    "        a2 = F.relu(self.c2(x))\n",
    "        return torch.add(a2, x)\n",
    "        "
   ]
  },
  {
   "cell_type": "code",
   "execution_count": 29,
   "metadata": {},
   "outputs": [],
   "source": [
    "# resb = ResBlock(1, 16).cuda()\n",
    "\n",
    "# yp = resb(xb)\n",
    "# assert(yp.shape == (1,16,1024,1024))"
   ]
  },
  {
   "cell_type": "code",
   "execution_count": 30,
   "metadata": {},
   "outputs": [],
   "source": [
    "def conv2d(ni, nf, s): return nn.Conv2d(ni, nf, kernel_size=3, stride=2, padding=1)\n",
    "def conv_layer(ni, nf, s=2, p=0.5): \n",
    "    return nn.Sequential(\n",
    "    conv2d(ni, nf, s),\n",
    "    nn.BatchNorm2d(nf),\n",
    "    nn.Dropout3d(p),\n",
    "    nn.ReLU()\n",
    ")"
   ]
  },
  {
   "cell_type": "code",
   "execution_count": 31,
   "metadata": {},
   "outputs": [],
   "source": [
    "def deconv2d(ni, nf, s): return nn.ConvTranspose2d(ni, nf, kernel_size=3, stride=2, padding=1, output_padding=1)\n",
    "def deconv_layer(ni, nf, s=2, p=0.5): \n",
    "    return nn.Sequential(\n",
    "    deconv2d(ni, nf, s),\n",
    "    nn.BatchNorm2d(nf),\n",
    "    nn.Dropout3d(p),\n",
    "    nn.ReLU()\n",
    ")"
   ]
  },
  {
   "cell_type": "code",
   "execution_count": 32,
   "metadata": {},
   "outputs": [
    {
     "name": "stdout",
     "output_type": "stream",
     "text": [
      "torch.Size([1, 512, 16, 16]) torch.Size([1, 256, 32, 32])\n"
     ]
    }
   ],
   "source": [
    "layer = nn.Sequential(\n",
    "    nn.ConvTranspose2d(512, 256, kernel_size=3, stride=2, padding=1, output_padding=1),\n",
    "    nn.BatchNorm2d(256),\n",
    "    nn.Dropout3d(0.1),\n",
    "    nn.ReLU()\n",
    ")\n",
    "\n",
    "input_x = torch.rand([1, 512, 16, 16])\n",
    "\n",
    "out_a = layer(input_x)\n",
    "\n",
    "print(input_x.shape, out_a.shape)"
   ]
  },
  {
   "cell_type": "code",
   "execution_count": 33,
   "metadata": {},
   "outputs": [],
   "source": [
    "class unet_simple(nn.Module):\n",
    "    def __init__(self):\n",
    "        super().__init__()\n",
    "        \n",
    "        # encoder\n",
    "#         self.rin0 = ResBlock(1, 1) # 1024\n",
    "        self.cin1 = conv_layer(1, 16, 2, 0.5) # 1024**2 -> 512**2\n",
    "        self.cin2 = conv_layer(16, 32, 2, 0.5) # 512**2 -> 256**2\n",
    "        self.rin1 = ResBlock(32, 32) # 256 \n",
    "        self.cin3 = conv_layer(32, 64, 2, 0.5) # 256**2 -> 128**2\n",
    "        self.cin4 = conv_layer(64, 128, 2, 0.5) # 128**2 -> 64**2\n",
    "        self.rin2 = ResBlock(128, 128) # 64\n",
    "        self.cin5 = conv_layer(128, 256, 2, 0.5) # 64**2 -> 32**2\n",
    "        self.cin6 = conv_layer(256, 512, 2, 0.5) # 32**2 -> 16**2\n",
    "        self.rin3 = ResBlock(512, 512)\n",
    "        \n",
    "        # decoder\n",
    "        self.dcout1 = deconv_layer(512, 256, 2, 0.5) # 16**2 -> 32**2\n",
    "        self.dcout2 = deconv_layer(256, 128, 2, 0.5) # 32**2 -> 64**2\n",
    "        self.drout1 = ResBlock(256, 256) # 64\n",
    "        # skip\n",
    "        self.dcout3 = deconv_layer(256, 64, 2, 0.5) # 64**2 -> 128**2\n",
    "        self.dcout4 = deconv_layer(64, 32, 2, 0.5) # 128**2 -> 256**2\n",
    "        self.drout2 = ResBlock(64, 64) # 256\n",
    "        # skip\n",
    "        self.dcout5 = deconv_layer(64, 32, 2, 0.5) # 256**2 -> 512**2\n",
    "        self.dcout6 = deconv_layer(32, 1, 2, 0.5) # 512**2 -> 1024**2\n",
    "#         self.drout3 = ResBlock(16, 16) # 1024\n",
    "        # skip with input + a\n",
    "        \n",
    "        \n",
    "    def forward(self, x):\n",
    "        \n",
    "        # downsampling path\n",
    "#         a0 = self.rin0(x)\n",
    "        # skip + x\n",
    "        a1 = self.cin1(x)\n",
    "        a2 = self.cin2(a1)\n",
    "        a3 = self.rin1(a2)\n",
    "        # skip\n",
    "        a4 = self.cin3(a3)\n",
    "        a5 = self.cin4(a4)\n",
    "        a6 = self.rin2(a5) \n",
    "        # skip\n",
    "        a7 = self.cin5(a6)\n",
    "        a8 = self.cin6(a7)\n",
    "        a9 = self.rin3(a8) \n",
    "        \n",
    "        \n",
    "        # upsample path\n",
    "\n",
    "        a10 = self.dcout1(a9)\n",
    "        a11 = self.dcout2(a10)\n",
    "#         print([a.shape for a in [a9, a10, a11]])\n",
    "        \n",
    "#         print(a11.shape, a6.shape)\n",
    "        skip_a_64 = torch.cat((a11, a6), 1)\n",
    "        a12 = self.drout1(skip_a_64)\n",
    "        \n",
    "        a13 = self.dcout3(a12)\n",
    "        a14 = self.dcout4(a13)\n",
    "        \n",
    "#         print(a14.shape, a3.shape)\n",
    "        skip_a_256 = torch.cat((a14, a3), 1)\n",
    "        a15 = self.drout2(skip_a_256)\n",
    "        \n",
    "        a16 = self.dcout5(a15)\n",
    "        a17 = self.dcout6(a16)\n",
    "        \n",
    "#         skip_a_1024 = torch.cat((a17, a0, x), 1)\n",
    "#         a15 = self.drout3(skip_a_256)\n",
    "        \n",
    "        return a17"
   ]
  },
  {
   "cell_type": "code",
   "execution_count": 34,
   "metadata": {},
   "outputs": [],
   "source": [
    "bs = 16\n",
    "lr = 1e-3\n",
    "wd = 1e-2"
   ]
  },
  {
   "cell_type": "code",
   "execution_count": 35,
   "metadata": {},
   "outputs": [],
   "source": [
    "model = unet_simple().cuda()"
   ]
  },
  {
   "cell_type": "code",
   "execution_count": 37,
   "metadata": {},
   "outputs": [],
   "source": [
    "trn,val = get_data(path, bs, shrink=0.1)"
   ]
  },
  {
   "cell_type": "code",
   "execution_count": 39,
   "metadata": {},
   "outputs": [],
   "source": [
    "opt = torch.optim.Adam(model.parameters(), lr=lr, weight_decay=wd)\n",
    "learn = Learner(path, model, opt, torch.nn.MSELoss(), {'trn': trn['dl'], 'val': val['dl']})"
   ]
  },
  {
   "cell_type": "code",
   "execution_count": null,
   "metadata": {},
   "outputs": [
    {
     "name": "stderr",
     "output_type": "stream",
     "text": [
      "  9%|▉         | 5/54 [00:09<01:36,  1.97s/it]"
     ]
    }
   ],
   "source": [
    "learn.fit_(1)"
   ]
  },
  {
   "cell_type": "code",
   "execution_count": 1,
   "metadata": {},
   "outputs": [
    {
     "ename": "NameError",
     "evalue": "name 'learn' is not defined",
     "output_type": "error",
     "traceback": [
      "\u001b[0;31m---------------------------------------------------------------------------\u001b[0m",
      "\u001b[0;31mNameError\u001b[0m                                 Traceback (most recent call last)",
      "\u001b[0;32m<ipython-input-1-def74f38fb5f>\u001b[0m in \u001b[0;36m<module>\u001b[0;34m\u001b[0m\n\u001b[0;32m----> 1\u001b[0;31m \u001b[0mlearn\u001b[0m\u001b[0;34m.\u001b[0m\u001b[0msave\u001b[0m\u001b[0;34m(\u001b[0m\u001b[0;34m'unet_basic_v1'\u001b[0m\u001b[0;34m)\u001b[0m\u001b[0;34m\u001b[0m\u001b[0m\n\u001b[0m",
      "\u001b[0;31mNameError\u001b[0m: name 'learn' is not defined"
     ]
    }
   ],
   "source": [
    "learn.save('unet_basic_v1')"
   ]
  },
  {
   "cell_type": "code",
   "execution_count": 32,
   "metadata": {},
   "outputs": [],
   "source": [
    "learn.load('unet_basic_v1')"
   ]
  },
  {
   "cell_type": "code",
   "execution_count": 33,
   "metadata": {},
   "outputs": [],
   "source": [
    "model = learn.model.eval()"
   ]
  },
  {
   "cell_type": "code",
   "execution_count": 34,
   "metadata": {},
   "outputs": [],
   "source": [
    "xb, yb = next(iter(dl))"
   ]
  },
  {
   "cell_type": "code",
   "execution_count": 35,
   "metadata": {},
   "outputs": [],
   "source": [
    "ypred = model(xb)"
   ]
  },
  {
   "cell_type": "code",
   "execution_count": 1,
   "metadata": {},
   "outputs": [
    {
     "ename": "NameError",
     "evalue": "name 'ypred' is not defined",
     "output_type": "error",
     "traceback": [
      "\u001b[0;31m---------------------------------------------------------------------------\u001b[0m",
      "\u001b[0;31mNameError\u001b[0m                                 Traceback (most recent call last)",
      "\u001b[0;32m<ipython-input-1-6dca9521e8d7>\u001b[0m in \u001b[0;36m<module>\u001b[0;34m\u001b[0m\n\u001b[0;32m----> 1\u001b[0;31m \u001b[0;32mfor\u001b[0m \u001b[0mi\u001b[0m \u001b[0;32min\u001b[0m \u001b[0mrange\u001b[0m\u001b[0;34m(\u001b[0m\u001b[0mlen\u001b[0m\u001b[0;34m(\u001b[0m\u001b[0mypred\u001b[0m\u001b[0;34m)\u001b[0m\u001b[0;34m)\u001b[0m\u001b[0;34m:\u001b[0m\u001b[0;34m\u001b[0m\u001b[0m\n\u001b[0m\u001b[1;32m      2\u001b[0m     \u001b[0marr\u001b[0m \u001b[0;34m=\u001b[0m \u001b[0;34m[\u001b[0m\u001b[0mt\u001b[0m\u001b[0;34m.\u001b[0m\u001b[0mcpu\u001b[0m\u001b[0;34m(\u001b[0m\u001b[0;34m)\u001b[0m \u001b[0;32mfor\u001b[0m \u001b[0mt\u001b[0m \u001b[0;32min\u001b[0m \u001b[0;34m[\u001b[0m\u001b[0mxb\u001b[0m\u001b[0;34m[\u001b[0m\u001b[0mi\u001b[0m\u001b[0;34m]\u001b[0m\u001b[0;34m,\u001b[0m\u001b[0myb\u001b[0m\u001b[0;34m[\u001b[0m\u001b[0mi\u001b[0m\u001b[0;34m]\u001b[0m\u001b[0;34m,\u001b[0m\u001b[0mypred\u001b[0m\u001b[0;34m[\u001b[0m\u001b[0mi\u001b[0m\u001b[0;34m]\u001b[0m\u001b[0;34m]\u001b[0m \u001b[0;34m]\u001b[0m\u001b[0;34m\u001b[0m\u001b[0m\n\u001b[1;32m      3\u001b[0m     \u001b[0mplot_xyhat\u001b[0m\u001b[0;34m(\u001b[0m\u001b[0marr\u001b[0m\u001b[0;34m)\u001b[0m\u001b[0;34m\u001b[0m\u001b[0m\n",
      "\u001b[0;31mNameError\u001b[0m: name 'ypred' is not defined"
     ]
    }
   ],
   "source": [
    "for i in range(len(ypred)):\n",
    "    arr = [t.cpu() for t in [xb[i],yb[i],ypred[i]] ]\n",
    "    plot_xyhat(arr)\n"
   ]
  },
  {
   "cell_type": "code",
   "execution_count": null,
   "metadata": {},
   "outputs": [],
   "source": []
  }
 ],
 "metadata": {
  "kernelspec": {
   "display_name": "Python 3",
   "language": "python",
   "name": "python3"
  },
  "language_info": {
   "codemirror_mode": {
    "name": "ipython",
    "version": 3
   },
   "file_extension": ".py",
   "mimetype": "text/x-python",
   "name": "python",
   "nbconvert_exporter": "python",
   "pygments_lexer": "ipython3",
   "version": "3.6.6"
  }
 },
 "nbformat": 4,
 "nbformat_minor": 2
}
